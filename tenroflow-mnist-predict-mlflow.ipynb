{
 "cells": [
  {
   "cell_type": "code",
   "execution_count": null,
   "id": "14749fa9-63d7-4868-8a16-c302dcd603c5",
   "metadata": {
    "tags": []
   },
   "outputs": [],
   "source": [
    "!pip install mlflow"
   ]
  },
  {
   "cell_type": "code",
   "execution_count": null,
   "id": "59d54a5a-4da6-4339-b88d-5657bc59463f",
   "metadata": {},
   "outputs": [],
   "source": [
    "import mlflow\n",
    "import mlflow.keras\n",
    "import numpy as np\n",
    "import tensorflow as tf"
   ]
  },
  {
   "cell_type": "code",
   "execution_count": null,
   "id": "920a7525-5758-47b7-a6cd-16ffdca91615",
   "metadata": {
    "tags": []
   },
   "outputs": [],
   "source": [
    "# Set the model name (same as the one you registered earlier)\n",
    "model_name = \"MNIST_TensorFlow_Model\"\n",
    "\n",
    "# Load the latest version of the model from the registry\n",
    "model_uri = f\"models:/{model_name}/latest\"\n",
    "loaded_model = mlflow.keras.load_model(model_uri)\n",
    "\n",
    "# Load the MNIST test dataset to make predictions\n",
    "(_, _), (x_test, y_test) = tf.keras.datasets.mnist.load_data()\n",
    "\n",
    "# Normalize the test data the same way it was done during training\n",
    "x_test = x_test / 255.0\n",
    "\n",
    "# Perform predictions on the first 5 samples of the test set\n",
    "predictions = loaded_model.predict(x_test[:5])\n",
    "\n",
    "# Print the predictions (probabilities for each class)\n",
    "print(\"Predictions (probabilities for each class):\")\n",
    "print(predictions)\n",
    "\n",
    "# Get the predicted classes by taking the argmax of the probability distribution\n",
    "predicted_classes = np.argmax(predictions, axis=1)\n",
    "print(\"\\nPredicted classes:\")\n",
    "print(predicted_classes)\n",
    "\n",
    "# Compare with the actual labels\n",
    "print(\"\\nActual classes:\")\n",
    "print(y_test[:5])\n"
   ]
  },
  {
   "cell_type": "code",
   "execution_count": null,
   "id": "efb9a0cb-eae9-47d0-9456-27a2ecab2346",
   "metadata": {},
   "outputs": [],
   "source": []
  }
 ],
 "metadata": {
  "kernelspec": {
   "display_name": "Python 3 (ipykernel)",
   "language": "python",
   "name": "python3"
  },
  "language_info": {
   "codemirror_mode": {
    "name": "ipython",
    "version": 3
   },
   "file_extension": ".py",
   "mimetype": "text/x-python",
   "name": "python",
   "nbconvert_exporter": "python",
   "pygments_lexer": "ipython3",
   "version": "3.11.6"
  }
 },
 "nbformat": 4,
 "nbformat_minor": 5
}
