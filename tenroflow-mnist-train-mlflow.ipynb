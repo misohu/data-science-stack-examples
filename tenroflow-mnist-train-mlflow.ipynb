{
 "cells": [
  {
   "cell_type": "code",
   "execution_count": null,
   "id": "fa674f72-55d4-4520-9103-c9d94391cba9",
   "metadata": {
    "tags": []
   },
   "outputs": [],
   "source": [
    "!pip install mlflow"
   ]
  },
  {
   "cell_type": "code",
   "execution_count": null,
   "id": "baee2dea-bdb0-4126-9b0f-a50b1f4a33c5",
   "metadata": {},
   "outputs": [],
   "source": [
    "import tensorflow as tf\n",
    "import mlflow\n",
    "import mlflow.keras"
   ]
  },
  {
   "cell_type": "code",
   "execution_count": null,
   "id": "2eb75a98-bdd3-40ba-a20d-4c427d1d640d",
   "metadata": {
    "tags": []
   },
   "outputs": [],
   "source": [
    "# Ensure TensorFlow is using GPU\n",
    "if len(tf.config.list_physical_devices('GPU')) > 0:\n",
    "    print(\"Using GPU\")\n",
    "else:\n",
    "    print(\"Using CPU\")"
   ]
  },
  {
   "cell_type": "code",
   "execution_count": null,
   "id": "6247f93f-8214-4a3d-beaa-90a233376263",
   "metadata": {
    "tags": []
   },
   "outputs": [],
   "source": [
    "# Enable MLflow autologging\n",
    "mlflow.tensorflow.autolog()\n",
    "\n",
    "# Set the experiment name (creates the experiment if it doesn't exist)\n",
    "experiment_name = \"simple_tensorflow_example\"\n",
    "mlflow.set_experiment(experiment_name)\n",
    "\n",
    "# Load the MNIST dataset\n",
    "mnist = tf.keras.datasets.mnist\n",
    "(x_train, y_train), (x_test, y_test) = mnist.load_data()\n",
    "\n",
    "# Normalize the data to [0, 1] range\n",
    "x_train, x_test = x_train / 255.0, x_test / 255.0\n",
    "\n",
    "# Define a simple sequential model\n",
    "model = tf.keras.models.Sequential([\n",
    "    tf.keras.layers.Flatten(input_shape=(28, 28)),\n",
    "    tf.keras.layers.Dense(128, activation='relu'),\n",
    "    tf.keras.layers.Dropout(0.2),\n",
    "    tf.keras.layers.Dense(10, activation='softmax')\n",
    "])\n",
    "\n",
    "# Compile the model\n",
    "model.compile(optimizer='adam',\n",
    "              loss='sparse_categorical_crossentropy',\n",
    "              metrics=['accuracy'])\n",
    "\n",
    "# Start an MLflow run under the created experiment\n",
    "with mlflow.start_run() as run:\n",
    "    # Train the model\n",
    "    model.fit(x_train, y_train, epochs=5, validation_data=(x_test, y_test))\n",
    "\n",
    "    # Evaluate the model\n",
    "    test_loss, test_acc = model.evaluate(x_test, y_test, verbose=2)\n",
    "\n",
    "    print(f\"\\nTest accuracy: {test_acc}\")\n",
    "\n",
    "    # Register the model using the Keras API\n",
    "    model_name = \"MNIST_TensorFlow_Model\"\n",
    "    \n",
    "    # Log and register the Keras model in the MLflow model registry\n",
    "    mlflow.keras.log_model(model, \"model\", registered_model_name=model_name)\n",
    "\n",
    "    # End the MLflow run\n",
    "    mlflow.end_run()\n",
    "\n",
    "print(f\"Model registered in the MLflow Model Registry as '{model_name}'\")"
   ]
  },
  {
   "cell_type": "code",
   "execution_count": null,
   "id": "643a367e-ce97-4bec-a188-7f5c3e9abf45",
   "metadata": {},
   "outputs": [],
   "source": []
  }
 ],
 "metadata": {
  "kernelspec": {
   "display_name": "Python 3 (ipykernel)",
   "language": "python",
   "name": "python3"
  },
  "language_info": {
   "codemirror_mode": {
    "name": "ipython",
    "version": 3
   },
   "file_extension": ".py",
   "mimetype": "text/x-python",
   "name": "python",
   "nbconvert_exporter": "python",
   "pygments_lexer": "ipython3",
   "version": "3.11.6"
  }
 },
 "nbformat": 4,
 "nbformat_minor": 5
}
